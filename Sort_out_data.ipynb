{
 "cells": [
  {
   "cell_type": "code",
   "execution_count": 13,
   "metadata": {},
   "outputs": [],
   "source": [
    "import requests\n",
    "import json\n",
    "from dotenv import load_dotenv\n",
    "import os\n",
    "\n",
    "load_dotenv()\n",
    "\n",
    "def get_data():\n",
    "    api_key = os.getenv('API_KEY')\n",
    "    url = 'https://api.trafikinfo.trafikverket.se/v2/data.json'\n",
    "\n",
    "    payload = \"\"\"\n",
    "    <REQUEST>\n",
    "        <LOGIN authenticationkey='{}' />\n",
    "        <QUERY objecttype='Situation' schemaversion='1.5'>\n",
    "            <INCLUDE>Deviation</INCLUDE>\n",
    "        </QUERY>\n",
    "    </REQUEST>\n",
    "    \"\"\".format(api_key)\n",
    "\n",
    "    # Skicka API-anropet\n",
    "    response = requests.post(url, data=payload, headers={'Content-Type': 'text/xml'})\n",
    "\n",
    "    # Kontrollera om anropet lyckades\n",
    "    if response.status_code == 200:\n",
    "        data = response.json()\n",
    "        return data\n",
    "    else:\n",
    "        print(f\"Misslyckades med att hämta data: {response.status_code}\")\n",
    "        print(response.text)\n",
    "        return None"
   ]
  },
  {
   "cell_type": "code",
   "execution_count": 49,
   "metadata": {},
   "outputs": [
    {
     "name": "stdout",
     "output_type": "stream",
     "text": [
      "Data hämtad\n"
     ]
    }
   ],
   "source": [
    "import requests\n",
    "import json\n",
    "from dotenv import load_dotenv\n",
    "import os\n",
    "\n",
    "load_dotenv()\n",
    "\n",
    "def get_data_olyckor():\n",
    "    api_key = os.getenv('API_KEY')\n",
    "    url = 'https://api.trafikinfo.trafikverket.se/v2/data.json'\n",
    "\n",
    "    payload = f\"\"\"\n",
    "    <REQUEST>\n",
    "        <LOGIN authenticationkey=\"{api_key}\" />\n",
    "        <QUERY objecttype=\"Situation\" schemaversion=\"1\">\n",
    "            <FILTER>\n",
    "                <AND>\n",
    "                    <EQ name=\"Deviation.MessageType\" value=\"Trafikolycka\" />\n",
    "                </AND>\n",
    "            </FILTER>\n",
    "        </QUERY>\n",
    "    </REQUEST>\n",
    "    \"\"\"\n",
    "\n",
    "    headers = {'Content-Type': 'text/xml'}  # Kontrollera att detta är korrekt\n",
    "\n",
    "    response = requests.post(url, data=payload, headers=headers)\n",
    "\n",
    "    if response.status_code == 200:\n",
    "        data = response.json()\n",
    "        print('Data hämtad')\n",
    "        return data\n",
    "    else:\n",
    "        print(f\"Misslyckades med att hämta data: {response.status_code}\")\n",
    "        print(\"Detaljer från API-svar:\", response.text)  # Ger mer insikt om vad som kan ha gått fel\n",
    "        return None\n",
    "\n",
    "data1 = get_data_olyckor()\n",
    "\n",
    "if data1:\n",
    "    with open('data/data_olyckor.json', 'w') as f:\n",
    "        json.dump(data1, f, indent=4)\n",
    "else:\n",
    "    print(\"Misslyckades med att hämta data\")\n"
   ]
  },
  {
   "cell_type": "code",
   "execution_count": 34,
   "metadata": {},
   "outputs": [],
   "source": [
    "data = get_data()\n",
    "\n",
    "with open('data/trafikverket.json', 'w') as f:\n",
    "    json.dump(data, f, indent=4)"
   ]
  },
  {
   "cell_type": "code",
   "execution_count": 36,
   "metadata": {},
   "outputs": [
    {
     "name": "stdout",
     "output_type": "stream",
     "text": [
      "RESPONSE\n",
      "\n",
      "\n"
     ]
    }
   ],
   "source": [
    "data = get_data()\n",
    "\n",
    "for keys in data:\n",
    "    print(keys)"
   ]
  },
  {
   "cell_type": "code",
   "execution_count": 37,
   "metadata": {},
   "outputs": [
    {
     "name": "stdout",
     "output_type": "stream",
     "text": [
      "RESULT\n",
      "\n",
      "\n"
     ]
    }
   ],
   "source": [
    "data = get_data()\n",
    "\n",
    "for keys in data['RESPONSE']:\n",
    "    print(keys)"
   ]
  },
  {
   "cell_type": "code",
   "execution_count": null,
   "metadata": {},
   "outputs": [],
   "source": [
    "data = get_data()\n",
    "\n",
    "for result in data['RESPONSE']['RESULT']:\n",
    "    for situation in result['Situation']:\n",
    "        print(situation)"
   ]
  },
  {
   "cell_type": "code",
   "execution_count": null,
   "metadata": {},
   "outputs": [],
   "source": [
    "for result in data['RESPONSE']['RESULT']:\n",
    "    for situation in result['Situation']:\n",
    "        for deviation in situation['Deviation']:\n",
    "            print(deviation)"
   ]
  },
  {
   "cell_type": "code",
   "execution_count": null,
   "metadata": {},
   "outputs": [],
   "source": [
    "for result in data['RESPONSE']['RESULT']:\n",
    "    for situation in result['Situation']:\n",
    "        for deviation in situation['Deviation']:\n",
    "            for keys in deviation:\n",
    "                print(keys)\n",
    "                print(\"\\n\")"
   ]
  },
  {
   "cell_type": "code",
   "execution_count": null,
   "metadata": {},
   "outputs": [],
   "source": [
    "for result in data['RESPONSE']['RESULT']:\n",
    "    for situation in result['Situation']:\n",
    "        for deviation in situation['Deviation']:\n",
    "            for keys in deviation:\n",
    "                print(keys)\n",
    "                print(deviation[keys])\n",
    "                print(\"\\n\")"
   ]
  },
  {
   "cell_type": "code",
   "execution_count": 41,
   "metadata": {},
   "outputs": [],
   "source": [
    "deviation_list = [] \n",
    "\n",
    "for result in data['RESPONSE']['RESULT']:\n",
    "    for situation in result['Situation']:\n",
    "        for deviation in situation['Deviation']:\n",
    "            deviation_list.append(deviation['MessageCodeValue'])\n",
    "\n",
    "with open('data/deviation_MessageCodeValue.json', 'w') as f:\n",
    "    json.dump(deviation_list, f, indent=4)"
   ]
  },
  {
   "cell_type": "code",
   "execution_count": 42,
   "metadata": {},
   "outputs": [],
   "source": [
    "deviation_list = []\n",
    "\n",
    "for result in data['RESPONSE']['RESULT']:\n",
    "    for situation in result['Situation']:\n",
    "        for deviation in situation['Deviation']:\n",
    "            deviation_list.append(deviation)\n",
    "\n",
    "with open('data/data_deviation.json', 'w') as f:\n",
    "    json.dump(deviation_list, f, indent=4)"
   ]
  },
  {
   "cell_type": "code",
   "execution_count": null,
   "metadata": {},
   "outputs": [],
   "source": []
  }
 ],
 "metadata": {
  "kernelspec": {
   "display_name": ".venv",
   "language": "python",
   "name": "python3"
  },
  "language_info": {
   "codemirror_mode": {
    "name": "ipython",
    "version": 3
   },
   "file_extension": ".py",
   "mimetype": "text/x-python",
   "name": "python",
   "nbconvert_exporter": "python",
   "pygments_lexer": "ipython3",
   "version": "3.11.5"
  }
 },
 "nbformat": 4,
 "nbformat_minor": 2
}
